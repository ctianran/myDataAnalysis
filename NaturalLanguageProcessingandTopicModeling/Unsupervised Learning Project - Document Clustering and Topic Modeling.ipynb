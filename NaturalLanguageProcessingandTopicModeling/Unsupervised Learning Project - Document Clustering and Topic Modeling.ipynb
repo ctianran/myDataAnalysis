{
 "cells": [
  {
   "cell_type": "markdown",
   "metadata": {
    "deletable": true,
    "editable": true
   },
   "source": [
    "## Table of Contents\n",
    "<ul>\n",
    "<li>[Part 1: Load Data](#Part-1:-Load-Data)\n",
    "<li>[Part 2: Tokenizing and Stemming](#Part-2:-Tokenizing-and-Stemming)  \n",
    "<li>[Part 3: TF-IDF](#Part-3:-TF-IDF)\n",
    "<li>[Part 4: K-means Clustering](#Part-4:-K-means-Clustering)  \n",
    "</ul>"
   ]
  },
  {
   "cell_type": "markdown",
   "metadata": {
    "deletable": true,
    "editable": true
   },
   "source": [
    "## Part 1: Load Data"
   ]
  },
  {
   "cell_type": "code",
   "execution_count": 37,
   "metadata": {
    "collapsed": true,
    "deletable": true,
    "editable": true
   },
   "outputs": [],
   "source": [
    "import warnings\n",
    "warnings.filterwarnings('ignore')\n",
    "import numpy as np\n",
    "import pandas as pd\n",
    "import nltk\n",
    "import re\n",
    "import os\n",
    "\n",
    "from sklearn import decomposition\n",
    "from sklearn.feature_extraction.text import TfidfVectorizer\n",
    "import matplotlib.pyplot as plt\n",
    "import lda"
   ]
  },
  {
   "cell_type": "markdown",
   "metadata": {
    "collapsed": true,
    "deletable": true,
    "editable": true
   },
   "source": [
    "Read data from files. In summary, we have 100 titles and 100 synoposes (combined from imdb and wiki)."
   ]
  },
  {
   "cell_type": "code",
   "execution_count": 38,
   "metadata": {
    "collapsed": true,
    "deletable": true,
    "editable": true
   },
   "outputs": [],
   "source": [
    "# import three lists: titles and wikipedia synopses\n",
    "titles = open('./data/title_list.txt').read().split('\\n')\n",
    "titles = titles[:100] # ensures that only the first 100 are read in\n",
    "\n",
    "# the wiki synopses and imdb synopses of each movie is seperated by the keywords \"BREAKS HERE\".\n",
    "# each synoposes may consist of multiple paragraphs.\n",
    "synopses_wiki = open('./data/synopses_list_wiki.txt').read().split('\\n BREAKS HERE')\n",
    "synopses_wiki = synopses_wiki[:100]\n",
    "\n",
    "synopses_imdb = open('./data/synopses_list_imdb.txt').read().split('\\n BREAKS HERE')\n",
    "synopses_imdb = synopses_imdb[:100]\n",
    "\n",
    "# combine imdb and wiki to get full synoposes for the top 100 movies.\n",
    "synopses = []\n",
    "for i in range(len(synopses_wiki)):\n",
    "    item = synopses_wiki[i] + synopses_imdb[i]\n",
    "    synopses.append(item)\n",
    "\n",
    "# because these synopses have already been ordered in popularity order,\n",
    "# we just need to generate a list of ordered numbers for future usage.\n",
    "ranks = range(len(titles))"
   ]
  },
  {
   "cell_type": "markdown",
   "metadata": {
    "deletable": true,
    "editable": true
   },
   "source": [
    "## Part 2: Tokenizing and Stemming "
   ]
  },
  {
   "cell_type": "markdown",
   "metadata": {
    "deletable": true,
    "editable": true
   },
   "source": [
    "Load stopwords and stemmer function from NLTK library. Stop words are liek \"a\", \"the\", or \"in\" which don't convey significant meaning.\n",
    "<br/>\n",
    "<b>Stemming</b> is the process of breaking a word down into its root."
   ]
  },
  {
   "cell_type": "code",
   "execution_count": 39,
   "metadata": {
    "collapsed": false,
    "deletable": true,
    "editable": true
   },
   "outputs": [
    {
     "name": "stdout",
     "output_type": "stream",
     "text": [
      "We use 179 stop-words from nltk library.\n",
      "[u'i', u'me', u'my', u'myself', u'we', u'our', u'ours', u'ourselves', u'you', u\"you're\"]\n"
     ]
    }
   ],
   "source": [
    "# Use nltk's English stopwords.\n",
    "stopwords = nltk.corpus.stopwords.words(\"english\")\n",
    "\n",
    "print(\"We use \" + str(len(stopwords)) + \" stop-words from nltk library.\")\n",
    "print(stopwords[:10])"
   ]
  },
  {
   "cell_type": "code",
   "execution_count": 40,
   "metadata": {
    "collapsed": false,
    "deletable": true,
    "editable": true
   },
   "outputs": [],
   "source": [
    "from nltk.stem.snowball import SnowballStemmer\n",
    "stemmer = SnowballStemmer(\"english\")\n",
    "\n",
    "def tokenization_and_stemming(text):\n",
    "    tokens = [word.lower() for sent in nltk.sent_tokenize(text) for word in nltk.word_tokenize(sent) if word not in stopwords]\n",
    "    \"\"\"\n",
    "    tokens = []\n",
    "    for sent in nltk.sent_tokenize(text):\n",
    "        for word in nltk.word_tokenize(sent):\n",
    "            if word not in stopword:\n",
    "                tokens.append(word)\n",
    "    \"\"\"\n",
    "    # filter out any tokens not containing letters (e.g., numeric tokens, raw punctuation)\n",
    "    filtered_tokens = []\n",
    "    for token in tokens:\n",
    "        if re.search('[a-zA-Z]', token):\n",
    "            filtered_tokens.append(token)\n",
    "    stems = [stemmer.stem(token) for token in filtered_tokens]\n",
    "    return stems\n",
    "\n",
    "# tokenization without stemming\n",
    "def tokenization(text):\n",
    "    tokens = [word.lower() for sent in nltk.sent_tokenize(text) for word in nltk.word_tokenize(sent) if word not in stopwords]\n",
    "    filtered_tokens = []\n",
    "    for token in tokens:\n",
    "        if re.search('[a-zA-Z]', token):\n",
    "            filtered_tokens.append(token)\n",
    "    return filtered_tokens"
   ]
  },
  {
   "cell_type": "code",
   "execution_count": 41,
   "metadata": {
    "collapsed": false,
    "deletable": true,
    "editable": true
   },
   "outputs": [
    {
     "name": "stdout",
     "output_type": "stream",
     "text": [
      "[u'look', u'father', \"'s\", u'arm']\n",
      "['looked', 'father', \"'s\", 'arm']\n"
     ]
    }
   ],
   "source": [
    "# for example\n",
    "print(tokenization_and_stemming(\"she looked at her father's arm.\"))\n",
    "print(tokenization(\"she looked at her father's arm.\"))"
   ]
  },
  {
   "cell_type": "markdown",
   "metadata": {
    "deletable": true,
    "editable": true
   },
   "source": [
    "Use our defined functions to analyze (i.e. tokenize, stem) our synoposes. "
   ]
  },
  {
   "cell_type": "code",
   "execution_count": 42,
   "metadata": {
    "collapsed": true,
    "deletable": true,
    "editable": true
   },
   "outputs": [],
   "source": [
    "docs_stemmed = []\n",
    "docs_tokenized = []\n",
    "for i in synopses:\n",
    "    tokenized_and_stemmed_results = tokenization_and_stemming(i)\n",
    "    docs_stemmed.extend(tokenized_and_stemmed_results)\n",
    "    \n",
    "    tokenized_results = tokenization(i)\n",
    "    docs_tokenized.extend(tokenized_results)"
   ]
  },
  {
   "cell_type": "markdown",
   "metadata": {
    "deletable": true,
    "editable": true
   },
   "source": [
    "Create a mapping from stemmed words to original tokenized words for result interpretation. "
   ]
  },
  {
   "cell_type": "code",
   "execution_count": 43,
   "metadata": {
    "collapsed": false,
    "deletable": true,
    "editable": true
   },
   "outputs": [
    {
     "name": "stdout",
     "output_type": "stream",
     "text": [
      "angeles\n"
     ]
    }
   ],
   "source": [
    "vocab_frame_dict = {docs_stemmed[i] : docs_tokenized[i] for i in range(len(docs_stemmed))}\n",
    "print(vocab_frame_dict['angel'])"
   ]
  },
  {
   "cell_type": "markdown",
   "metadata": {
    "deletable": true,
    "editable": true
   },
   "source": [
    "## Part 3: TF-IDF "
   ]
  },
  {
   "cell_type": "code",
   "execution_count": 44,
   "metadata": {
    "collapsed": false,
    "deletable": true,
    "editable": true
   },
   "outputs": [
    {
     "name": "stdout",
     "output_type": "stream",
     "text": [
      "In total, there are 100 synopses and 538 terms.\n"
     ]
    }
   ],
   "source": [
    "# define vectorizer parameters\n",
    "tfidf_model = TfidfVectorizer(max_df=0.8, max_features=200000, min_df=0.2, stop_words='english', use_idf=True,\n",
    "                             tokenizer=tokenization_and_stemming, ngram_range=(1,1))\n",
    "tfidf_matrix = tfidf_model.fit_transform(synopses) # fit the vectorizer to synopses\n",
    "\n",
    "print(\"In total, there are \" + str(tfidf_matrix.shape[0]) + \\\n",
    "     \" synopses and \" + str(tfidf_matrix.shape[1]) + \" terms.\")"
   ]
  },
  {
   "cell_type": "code",
   "execution_count": 45,
   "metadata": {
    "collapsed": false,
    "deletable": true,
    "editable": true
   },
   "outputs": [
    {
     "data": {
      "text/plain": [
       "{'analyzer': u'word',\n",
       " 'binary': False,\n",
       " 'decode_error': u'strict',\n",
       " 'dtype': numpy.int64,\n",
       " 'encoding': u'utf-8',\n",
       " 'input': u'content',\n",
       " 'lowercase': True,\n",
       " 'max_df': 0.8,\n",
       " 'max_features': 200000,\n",
       " 'min_df': 0.2,\n",
       " 'ngram_range': (1, 1),\n",
       " 'norm': u'l2',\n",
       " 'preprocessor': None,\n",
       " 'smooth_idf': True,\n",
       " 'stop_words': 'english',\n",
       " 'strip_accents': None,\n",
       " 'sublinear_tf': False,\n",
       " 'token_pattern': u'(?u)\\\\b\\\\w\\\\w+\\\\b',\n",
       " 'tokenizer': <function __main__.tokenization_and_stemming>,\n",
       " 'use_idf': True,\n",
       " 'vocabulary': None}"
      ]
     },
     "execution_count": 45,
     "metadata": {},
     "output_type": "execute_result"
    }
   ],
   "source": [
    "tfidf_model.get_params()"
   ]
  },
  {
   "cell_type": "markdown",
   "metadata": {
    "deletable": true,
    "editable": true
   },
   "source": [
    "Save the terms identified by TF-IDF. "
   ]
  },
  {
   "cell_type": "code",
   "execution_count": 46,
   "metadata": {
    "collapsed": false,
    "deletable": true,
    "editable": true
   },
   "outputs": [
    {
     "data": {
      "text/plain": [
       "[u\"'d\",\n",
       " u'abandon',\n",
       " u'abl',\n",
       " u'accept',\n",
       " u'accid',\n",
       " u'accompani',\n",
       " u'accus',\n",
       " u'act',\n",
       " u'action',\n",
       " u'actual',\n",
       " u'admit',\n",
       " u'afterward',\n",
       " u'ago',\n",
       " u'agre',\n",
       " u'air',\n",
       " u'aliv',\n",
       " u'allow',\n",
       " u'alon',\n",
       " u'alreadi',\n",
       " u'alway',\n",
       " u'american',\n",
       " u'angri',\n",
       " u'angrili',\n",
       " u'announc',\n",
       " u'anoth',\n",
       " u'answer',\n",
       " u'anyon',\n",
       " u'anyth',\n",
       " u'apart',\n",
       " u'appar',\n",
       " u'appear',\n",
       " u'approach',\n",
       " u'area',\n",
       " u'argu',\n",
       " u'arm',\n",
       " u'armi',\n",
       " u'arrang',\n",
       " u'arrest',\n",
       " u'arriv',\n",
       " u'ask',\n",
       " u'assign',\n",
       " u'assist',\n",
       " u'assum',\n",
       " u'attack',\n",
       " u'attempt',\n",
       " u'attend',\n",
       " u'attent',\n",
       " u'attract',\n",
       " u'audienc',\n",
       " u'avoid',\n",
       " u'away',\n",
       " u'bad',\n",
       " u'bar',\n",
       " u'bare',\n",
       " u'battl',\n",
       " u'beat',\n",
       " u'becom',\n",
       " u'bed',\n",
       " u'beg',\n",
       " u'believ',\n",
       " u'best',\n",
       " u'better',\n",
       " u'big',\n",
       " u'black',\n",
       " u'blow',\n",
       " u'board',\n",
       " u'bodi',\n",
       " u'book',\n",
       " u'boss',\n",
       " u'boy',\n",
       " u'break',\n",
       " u'brief',\n",
       " u'bring',\n",
       " u'broken',\n",
       " u'brother',\n",
       " u'build',\n",
       " u'burn',\n",
       " u'busi',\n",
       " u'buy',\n",
       " u'ca',\n",
       " u'camp',\n",
       " u'captain',\n",
       " u'captur',\n",
       " u'car',\n",
       " u'care',\n",
       " u'career',\n",
       " u'carri',\n",
       " u'case',\n",
       " u'catch',\n",
       " u'caus',\n",
       " u'chanc',\n",
       " u'chang',\n",
       " u'charg',\n",
       " u'chase',\n",
       " u'child',\n",
       " u'children',\n",
       " u'citi',\n",
       " u'claim',\n",
       " u'clear',\n",
       " u'climb',\n",
       " u'close',\n",
       " u'cloth',\n",
       " u'club',\n",
       " u'cold',\n",
       " u'collaps',\n",
       " u'come',\n",
       " u'command',\n",
       " u'commit',\n",
       " u'compani',\n",
       " u'complet',\n",
       " u'concern',\n",
       " u'condit',\n",
       " u'confess',\n",
       " u'confid',\n",
       " u'confront',\n",
       " u'consid',\n",
       " u'continu',\n",
       " u'control',\n",
       " u'convers',\n",
       " u'convinc',\n",
       " u'countri',\n",
       " u'coupl',\n",
       " u'cover',\n",
       " u'cri',\n",
       " u'crime',\n",
       " u'crimin',\n",
       " u'cross',\n",
       " u'crowd',\n",
       " u'cut',\n",
       " u'danc',\n",
       " u'danger',\n",
       " u'dark',\n",
       " u'date',\n",
       " u'daughter',\n",
       " u'day',\n",
       " u'dead',\n",
       " u'deal',\n",
       " u'death',\n",
       " u'decid',\n",
       " u'declar',\n",
       " u'defend',\n",
       " u'deliv',\n",
       " u'demand',\n",
       " u'depart',\n",
       " u'desert',\n",
       " u'desper',\n",
       " u'despit',\n",
       " u'destroy',\n",
       " u'determin',\n",
       " u'develop',\n",
       " u'die',\n",
       " u'differ',\n",
       " u'dinner',\n",
       " u'direct',\n",
       " u'discov',\n",
       " u'discuss',\n",
       " u'doctor',\n",
       " u'door',\n",
       " u'draw',\n",
       " u'dress',\n",
       " u'drink',\n",
       " u'drive',\n",
       " u'drop',\n",
       " u'drunk',\n",
       " u'earli',\n",
       " u'earlier',\n",
       " u'elder',\n",
       " u'emerg',\n",
       " u'empti',\n",
       " u'encount',\n",
       " u'end',\n",
       " u'engag',\n",
       " u'ensu',\n",
       " u'enter',\n",
       " u'entir',\n",
       " u'escap',\n",
       " u'escort',\n",
       " u'event',\n",
       " u'eventu',\n",
       " u'everi',\n",
       " u'everyon',\n",
       " u'everyth',\n",
       " u'evid',\n",
       " u'execut',\n",
       " u'expect',\n",
       " u'experi',\n",
       " u'explain',\n",
       " u'eye',\n",
       " u'face',\n",
       " u'fact',\n",
       " u'fail',\n",
       " u'fall',\n",
       " u'famili',\n",
       " u'far',\n",
       " u'father',\n",
       " u'fear',\n",
       " u'feel',\n",
       " u'fellow',\n",
       " u'field',\n",
       " u'fight',\n",
       " u'figur',\n",
       " u'film',\n",
       " u'final',\n",
       " u'finish',\n",
       " u'flee',\n",
       " u'fli',\n",
       " u'floor',\n",
       " u'follow',\n",
       " u'forc',\n",
       " u'free',\n",
       " u'friend',\n",
       " u'futur',\n",
       " u'general',\n",
       " u'georg',\n",
       " u'girl',\n",
       " u'given',\n",
       " u'goe',\n",
       " u'gone',\n",
       " u'good',\n",
       " u'got',\n",
       " u'grab',\n",
       " u'great',\n",
       " u'group',\n",
       " u'grow',\n",
       " u'guard',\n",
       " u'gun',\n",
       " u'hand',\n",
       " u'hang',\n",
       " u'happen',\n",
       " u'happi',\n",
       " u'head',\n",
       " u'hear',\n",
       " u'heard',\n",
       " u'heart',\n",
       " u'help',\n",
       " u'hidden',\n",
       " u'hide',\n",
       " u'high',\n",
       " u'hire',\n",
       " u'hit',\n",
       " u'hold',\n",
       " u'home',\n",
       " u'hope',\n",
       " u'hospit',\n",
       " u'hour',\n",
       " u'hous',\n",
       " u'howev',\n",
       " u'huge',\n",
       " u'husband',\n",
       " u'idea',\n",
       " u'ii',\n",
       " u'immedi',\n",
       " u'includ',\n",
       " u'inform',\n",
       " u'initi',\n",
       " u'insid',\n",
       " u'insist',\n",
       " u'instead',\n",
       " u'instruct',\n",
       " u'insult',\n",
       " u'intend',\n",
       " u'intent',\n",
       " u'introduc',\n",
       " u'investig',\n",
       " u'invit',\n",
       " u'involv',\n",
       " u'jame',\n",
       " u'job',\n",
       " u'john',\n",
       " u'join',\n",
       " u'jump',\n",
       " u'kill',\n",
       " u'kiss',\n",
       " u'knock',\n",
       " u'know',\n",
       " u'known',\n",
       " u'land',\n",
       " u'larg',\n",
       " u'late',\n",
       " u'lead',\n",
       " u'learn',\n",
       " u'led',\n",
       " u'left',\n",
       " u'let',\n",
       " u'lie',\n",
       " u'life',\n",
       " u'light',\n",
       " u'like',\n",
       " u'line',\n",
       " u'listen',\n",
       " u'littl',\n",
       " u'live',\n",
       " u'll',\n",
       " u'local',\n",
       " u'long',\n",
       " u'look',\n",
       " u'lose',\n",
       " u'lost',\n",
       " u'love',\n",
       " u'main',\n",
       " u'manag',\n",
       " u'mani',\n",
       " u'marri',\n",
       " u'marriag',\n",
       " u'matter',\n",
       " u'mean',\n",
       " u'meanwhil',\n",
       " u'meet',\n",
       " u'member',\n",
       " u'men',\n",
       " u'mention',\n",
       " u'met',\n",
       " u'mind',\n",
       " u'miss',\n",
       " u'moment',\n",
       " u'money',\n",
       " u'month',\n",
       " u'morn',\n",
       " u'mother',\n",
       " u'movi',\n",
       " u'mr.',\n",
       " u'murder',\n",
       " u'music',\n",
       " u\"n't\",\n",
       " u'near',\n",
       " u'nearbi',\n",
       " u'need',\n",
       " u'new',\n",
       " u'news',\n",
       " u'night',\n",
       " u'note',\n",
       " u'noth',\n",
       " u'notic',\n",
       " u'number',\n",
       " u'object',\n",
       " u'observ',\n",
       " u'offer',\n",
       " u'offic',\n",
       " u'old',\n",
       " u'open',\n",
       " u'order',\n",
       " u'outsid',\n",
       " u'pack',\n",
       " u'parent',\n",
       " u'parti',\n",
       " u'pass',\n",
       " u'past',\n",
       " u'pay',\n",
       " u'peopl',\n",
       " u'perform',\n",
       " u'person',\n",
       " u'persuad',\n",
       " u'phone',\n",
       " u'pick',\n",
       " u'pictur',\n",
       " u'place',\n",
       " u'plan',\n",
       " u'play',\n",
       " u'point',\n",
       " u'polic',\n",
       " u'posit',\n",
       " u'possibl',\n",
       " u'power',\n",
       " u'prepar',\n",
       " u'present',\n",
       " u'prevent',\n",
       " u'previous',\n",
       " u'prison',\n",
       " u'privat',\n",
       " u'problem',\n",
       " u'proceed',\n",
       " u'promis',\n",
       " u'propos',\n",
       " u'protect',\n",
       " u'prove',\n",
       " u'provid',\n",
       " u'public',\n",
       " u'pull',\n",
       " u'pursu',\n",
       " u'push',\n",
       " u'question',\n",
       " u'quick',\n",
       " u'quiet',\n",
       " u'reach',\n",
       " u'read',\n",
       " u'readi',\n",
       " u'real',\n",
       " u'realiz',\n",
       " u'realli',\n",
       " u'reason',\n",
       " u'receiv',\n",
       " u'recogn',\n",
       " u'record',\n",
       " u'recov',\n",
       " u'refus',\n",
       " u'relationship',\n",
       " u'releas',\n",
       " u'reluct',\n",
       " u'remain',\n",
       " u'rememb',\n",
       " u'remind',\n",
       " u'remov',\n",
       " u'repeat',\n",
       " u'repli',\n",
       " u'report',\n",
       " u'request',\n",
       " u'rescu',\n",
       " u'respons',\n",
       " u'rest',\n",
       " u'result',\n",
       " u'reveal',\n",
       " u'ride',\n",
       " u'right',\n",
       " u'ring',\n",
       " u'robert',\n",
       " u'room',\n",
       " u'run',\n",
       " u'rush',\n",
       " u'save',\n",
       " u'say',\n",
       " u'scene',\n",
       " u'school',\n",
       " u'scream',\n",
       " u'search',\n",
       " u'second',\n",
       " u'secret',\n",
       " u'secur',\n",
       " u'seek',\n",
       " u'seen',\n",
       " u'send',\n",
       " u'sent',\n",
       " u'serv',\n",
       " u'servic',\n",
       " u'set',\n",
       " u'sever',\n",
       " u'share',\n",
       " u'ship',\n",
       " u'shock',\n",
       " u'shoot',\n",
       " u'short',\n",
       " u'shot',\n",
       " u'shout',\n",
       " u'sign',\n",
       " u'silent',\n",
       " u'sinc',\n",
       " u'sing',\n",
       " u'sister',\n",
       " u'sit',\n",
       " u'situat',\n",
       " u'sleep',\n",
       " u'slip',\n",
       " u'small',\n",
       " u'soldier',\n",
       " u'someon',\n",
       " u'someth',\n",
       " u'son',\n",
       " u'soon',\n",
       " u'speak',\n",
       " u'spend',\n",
       " u'spot',\n",
       " u'stand',\n",
       " u'start',\n",
       " u'state',\n",
       " u'station',\n",
       " u'stay',\n",
       " u'step',\n",
       " u'stop',\n",
       " u'stori',\n",
       " u'storm',\n",
       " u'street',\n",
       " u'strike',\n",
       " u'struggl',\n",
       " u'success',\n",
       " u'sudden',\n",
       " u'suffer',\n",
       " u'suggest',\n",
       " u'suicid',\n",
       " u'support',\n",
       " u'surpris',\n",
       " u'surround',\n",
       " u'surviv',\n",
       " u'suspect',\n",
       " u'taken',\n",
       " u'talk',\n",
       " u'tear',\n",
       " u'thing',\n",
       " u'think',\n",
       " u'thought',\n",
       " u'threaten',\n",
       " u'throw',\n",
       " u'togeth',\n",
       " u'told',\n",
       " u'took',\n",
       " u'town',\n",
       " u'train',\n",
       " u'travel',\n",
       " u'trip',\n",
       " u'troubl',\n",
       " u'turn',\n",
       " u'unabl',\n",
       " u'understand',\n",
       " u'unit',\n",
       " u'use',\n",
       " u've',\n",
       " u'view',\n",
       " u'visit',\n",
       " u'voic',\n",
       " u'wait',\n",
       " u'walk',\n",
       " u'wall',\n",
       " u'want',\n",
       " u'war',\n",
       " u'warn',\n",
       " u'watch',\n",
       " u'water',\n",
       " u'way',\n",
       " u'wear',\n",
       " u'week',\n",
       " u'white',\n",
       " u'wife',\n",
       " u'william',\n",
       " u'win',\n",
       " u'window',\n",
       " u'wish',\n",
       " u'wit',\n",
       " u'wo',\n",
       " u'woman',\n",
       " u'women',\n",
       " u'word',\n",
       " u'work',\n",
       " u'world',\n",
       " u'worri',\n",
       " u'wound',\n",
       " u'write',\n",
       " u'wrong',\n",
       " u'year',\n",
       " u'york',\n",
       " u'young']"
      ]
     },
     "execution_count": 46,
     "metadata": {},
     "output_type": "execute_result"
    }
   ],
   "source": [
    "tf_selected_words = tfidf_model.get_feature_names()\n",
    "tf_selected_words"
   ]
  },
  {
   "cell_type": "markdown",
   "metadata": {
    "deletable": true,
    "editable": true
   },
   "source": [
    "### Calculate Document Similarity "
   ]
  },
  {
   "cell_type": "code",
   "execution_count": 47,
   "metadata": {
    "collapsed": false,
    "deletable": true,
    "editable": true
   },
   "outputs": [
    {
     "name": "stdout",
     "output_type": "stream",
     "text": [
      "[[ 1.          0.1996283   0.23342595 ...,  0.3581728   0.3277855\n",
      "   0.17714484]\n",
      " [ 0.1996283   1.          0.26626879 ...,  0.26910321  0.22856581\n",
      "   0.10870124]\n",
      " [ 0.23342595  0.26626879  1.         ...,  0.27738654  0.24669308\n",
      "   0.12805055]\n",
      " ..., \n",
      " [ 0.3581728   0.26910321  0.27738654 ...,  1.          0.55040973\n",
      "   0.08151334]\n",
      " [ 0.3277855   0.22856581  0.24669308 ...,  0.55040973  1.          0.13005234]\n",
      " [ 0.17714484  0.10870124  0.12805055 ...,  0.08151334  0.13005234  1.        ]]\n"
     ]
    }
   ],
   "source": [
    "from sklearn.metrics.pairwise import cosine_similarity\n",
    "cos_matrix = cosine_similarity(tfidf_matrix)\n",
    "print(cos_matrix)"
   ]
  },
  {
   "cell_type": "markdown",
   "metadata": {
    "deletable": true,
    "editable": true
   },
   "source": [
    "## Part 4: K-means Clustering "
   ]
  },
  {
   "cell_type": "code",
   "execution_count": 48,
   "metadata": {
    "collapsed": false,
    "deletable": true,
    "editable": true
   },
   "outputs": [],
   "source": [
    "from sklearn.cluster import KMeans\n",
    "\n",
    "num_clusters = 5\n",
    "km = KMeans(n_clusters=num_clusters)\n",
    "km.fit(tfidf_matrix)\n",
    "clusters = km.labels_.tolist()"
   ]
  },
  {
   "cell_type": "markdown",
   "metadata": {},
   "source": [
    "### 4.1 Analyze K-means Result "
   ]
  },
  {
   "cell_type": "code",
   "execution_count": 49,
   "metadata": {
    "collapsed": true
   },
   "outputs": [],
   "source": [
    "# create DataFrame films from all of the input files.\n",
    "films = {'title': titles, 'rank': ranks, 'synopsis': synopses, 'cluster': clusters}\n",
    "frame = pd.DataFrame(films, index=[clusters], columns=['rank', 'title', 'cluster'])"
   ]
  },
  {
   "cell_type": "code",
   "execution_count": 50,
   "metadata": {
    "collapsed": false
   },
   "outputs": [
    {
     "data": {
      "text/html": [
       "<div>\n",
       "<table border=\"1\" class=\"dataframe\">\n",
       "  <thead>\n",
       "    <tr style=\"text-align: right;\">\n",
       "      <th></th>\n",
       "      <th>rank</th>\n",
       "      <th>title</th>\n",
       "      <th>cluster</th>\n",
       "    </tr>\n",
       "  </thead>\n",
       "  <tbody>\n",
       "    <tr>\n",
       "      <th>2</th>\n",
       "      <td>0</td>\n",
       "      <td>The Godfather</td>\n",
       "      <td>2</td>\n",
       "    </tr>\n",
       "    <tr>\n",
       "      <th>2</th>\n",
       "      <td>1</td>\n",
       "      <td>The Shawshank Redemption</td>\n",
       "      <td>2</td>\n",
       "    </tr>\n",
       "    <tr>\n",
       "      <th>4</th>\n",
       "      <td>2</td>\n",
       "      <td>Schindler's List</td>\n",
       "      <td>4</td>\n",
       "    </tr>\n",
       "    <tr>\n",
       "      <th>4</th>\n",
       "      <td>3</td>\n",
       "      <td>Raging Bull</td>\n",
       "      <td>4</td>\n",
       "    </tr>\n",
       "    <tr>\n",
       "      <th>4</th>\n",
       "      <td>4</td>\n",
       "      <td>Casablanca</td>\n",
       "      <td>4</td>\n",
       "    </tr>\n",
       "    <tr>\n",
       "      <th>0</th>\n",
       "      <td>5</td>\n",
       "      <td>One Flew Over the Cuckoo's Nest</td>\n",
       "      <td>0</td>\n",
       "    </tr>\n",
       "    <tr>\n",
       "      <th>4</th>\n",
       "      <td>6</td>\n",
       "      <td>Gone with the Wind</td>\n",
       "      <td>4</td>\n",
       "    </tr>\n",
       "    <tr>\n",
       "      <th>1</th>\n",
       "      <td>7</td>\n",
       "      <td>Citizen Kane</td>\n",
       "      <td>1</td>\n",
       "    </tr>\n",
       "    <tr>\n",
       "      <th>0</th>\n",
       "      <td>8</td>\n",
       "      <td>The Wizard of Oz</td>\n",
       "      <td>0</td>\n",
       "    </tr>\n",
       "    <tr>\n",
       "      <th>2</th>\n",
       "      <td>9</td>\n",
       "      <td>Titanic</td>\n",
       "      <td>2</td>\n",
       "    </tr>\n",
       "  </tbody>\n",
       "</table>\n",
       "</div>"
      ],
      "text/plain": [
       "   rank                            title  cluster\n",
       "2     0                    The Godfather        2\n",
       "2     1         The Shawshank Redemption        2\n",
       "4     2                 Schindler's List        4\n",
       "4     3                      Raging Bull        4\n",
       "4     4                       Casablanca        4\n",
       "0     5  One Flew Over the Cuckoo's Nest        0\n",
       "4     6               Gone with the Wind        4\n",
       "1     7                     Citizen Kane        1\n",
       "0     8                 The Wizard of Oz        0\n",
       "2     9                          Titanic        2"
      ]
     },
     "execution_count": 50,
     "metadata": {},
     "output_type": "execute_result"
    }
   ],
   "source": [
    "frame.head(10)"
   ]
  },
  {
   "cell_type": "code",
   "execution_count": 51,
   "metadata": {
    "collapsed": false
   },
   "outputs": [
    {
     "name": "stdout",
     "output_type": "stream",
     "text": [
      "Number of films included in each cluster: \n"
     ]
    },
    {
     "data": {
      "text/html": [
       "<div>\n",
       "<table border=\"1\" class=\"dataframe\">\n",
       "  <thead>\n",
       "    <tr style=\"text-align: right;\">\n",
       "      <th></th>\n",
       "      <th>cluster</th>\n",
       "    </tr>\n",
       "  </thead>\n",
       "  <tbody>\n",
       "    <tr>\n",
       "      <th>4</th>\n",
       "      <td>30</td>\n",
       "    </tr>\n",
       "    <tr>\n",
       "      <th>2</th>\n",
       "      <td>30</td>\n",
       "    </tr>\n",
       "    <tr>\n",
       "      <th>1</th>\n",
       "      <td>18</td>\n",
       "    </tr>\n",
       "    <tr>\n",
       "      <th>0</th>\n",
       "      <td>16</td>\n",
       "    </tr>\n",
       "    <tr>\n",
       "      <th>3</th>\n",
       "      <td>6</td>\n",
       "    </tr>\n",
       "  </tbody>\n",
       "</table>\n",
       "</div>"
      ],
      "text/plain": [
       "   cluster\n",
       "4       30\n",
       "2       30\n",
       "1       18\n",
       "0       16\n",
       "3        6"
      ]
     },
     "execution_count": 51,
     "metadata": {},
     "output_type": "execute_result"
    }
   ],
   "source": [
    "print(\"Number of films included in each cluster: \")\n",
    "frame['cluster'].value_counts().to_frame()"
   ]
  },
  {
   "cell_type": "code",
   "execution_count": 52,
   "metadata": {
    "collapsed": false
   },
   "outputs": [
    {
     "name": "stdout",
     "output_type": "stream",
     "text": [
      "Average rank (1 to 100) per cluster:\n"
     ]
    },
    {
     "data": {
      "text/html": [
       "<div>\n",
       "<table border=\"1\" class=\"dataframe\">\n",
       "  <thead>\n",
       "    <tr style=\"text-align: right;\">\n",
       "      <th></th>\n",
       "      <th>rank</th>\n",
       "    </tr>\n",
       "    <tr>\n",
       "      <th>cluster</th>\n",
       "      <th></th>\n",
       "    </tr>\n",
       "  </thead>\n",
       "  <tbody>\n",
       "    <tr>\n",
       "      <th>0</th>\n",
       "      <td>53.687500</td>\n",
       "    </tr>\n",
       "    <tr>\n",
       "      <th>1</th>\n",
       "      <td>53.888889</td>\n",
       "    </tr>\n",
       "    <tr>\n",
       "      <th>2</th>\n",
       "      <td>49.933333</td>\n",
       "    </tr>\n",
       "    <tr>\n",
       "      <th>3</th>\n",
       "      <td>52.833333</td>\n",
       "    </tr>\n",
       "    <tr>\n",
       "      <th>4</th>\n",
       "      <td>43.533333</td>\n",
       "    </tr>\n",
       "  </tbody>\n",
       "</table>\n",
       "</div>"
      ],
      "text/plain": [
       "              rank\n",
       "cluster           \n",
       "0        53.687500\n",
       "1        53.888889\n",
       "2        49.933333\n",
       "3        52.833333\n",
       "4        43.533333"
      ]
     },
     "execution_count": 52,
     "metadata": {},
     "output_type": "execute_result"
    }
   ],
   "source": [
    "grouped = frame['rank'].groupby(frame['cluster'])\n",
    "print(\"Average rank (1 to 100) per cluster:\")\n",
    "grouped.mean().to_frame()"
   ]
  },
  {
   "cell_type": "code",
   "execution_count": 53,
   "metadata": {
    "collapsed": false
   },
   "outputs": [
    {
     "name": "stdout",
     "output_type": "stream",
     "text": [
      "<Document clustering result by K-means>\n",
      "Cluster 0 words:\n",
      "home, family, friend, away, mother, sister, Cluster 0 titles (16 movies): \n",
      "One Flew Over the Cuckoo's Nest, The Wizard of Oz, E.T. the Extra-Terrestrial, Raiders of the Lost Ark, A Streetcar Named Desire, Ben-Hur, The Treasure of the Sierra Madre, The Pianist, The Exorcist, It Happened One Night, Midnight Cowboy, Mr. Smith Goes to Washington, The Grapes of Wrath, Close Encounters of the Third Kind, The Graduate, American Graffiti\n",
      "Cluster 1 words:\n",
      "filmed, love, family, relationship, children, house, Cluster 1 titles (18 movies): \n",
      "Citizen Kane, Sunset Blvd., Singin' in the Rain, 12 Angry Men, Amadeus, Gandhi, To Kill a Mockingbird, My Fair Lady, Doctor Zhivago, Goodfellas, Annie Hall, Out of Africa, Good Will Hunting, Terms of Endearment, Giant, Nashville, Wuthering Heights, Yankee Doodle Dandy\n",
      "Cluster 2 words:\n",
      "police, killing, car, apartment, murder, asks, Cluster 2 titles (30 movies): \n",
      "The Godfather, The Shawshank Redemption, Titanic, The Godfather: Part II, Psycho, Vertigo, On the Waterfront, West Side Story, Star Wars, 2001: A Space Odyssey, The Silence of the Lambs, Chinatown, Some Like It Hot, Unforgiven, Rocky, Jaws, The Apartment, The French Connection, Rain Man, Fargo, Shane, Pulp Fiction, The Maltese Falcon, A Clockwork Orange, Taxi Driver, Double Indemnity, Rebel Without a Cause, Rear Window, The Third Man, North by Northwest\n",
      "Cluster 3 words:\n",
      "george, marries, family, woman, friend, john, Cluster 3 titles (6 movies): \n",
      "It's a Wonderful Life, The Philadelphia Story, An American in Paris, The King's Speech, A Place in the Sun, Tootsie\n",
      "Cluster 4 words:\n",
      "army, soldiers, war, killing, captain, orders, Cluster 4 titles (30 movies): \n",
      "Schindler's List, Raging Bull, Casablanca, Gone with the Wind, Lawrence of Arabia, Forrest Gump, The Sound of Music, The Bridge on the River Kwai, Dr. Strangelove or: How I Learned to Stop Worrying and Love the Bomb, Apocalypse Now, The Lord of the Rings: The Return of the King, Gladiator, From Here to Eternity, Saving Private Ryan, The Best Years of Our Lives, Patton, Braveheart, The Good, the Bad and the Ugly, Butch Cassidy and the Sundance Kid, Platoon, High Noon, Dances with Wolves, The Deer Hunter, All Quiet on the Western Front, City Lights, The Green Mile, Network, The African Queen, Stagecoach, Mutiny on the Bounty\n"
     ]
    }
   ],
   "source": [
    "print \"<Document clustering result by K-means>\"\n",
    "\n",
    "#km.cluster_centers_ denotes the importances of each items in centroid.\n",
    "#We need to sort it in decreasing-order and get the top k items.\n",
    "order_centroids = km.cluster_centers_.argsort()[:, ::-1] \n",
    "\n",
    "Cluster_keywords_summary = {}\n",
    "for i in range(num_clusters):\n",
    "    print(\"Cluster \" + str(i) + \" words:\")\n",
    "    Cluster_keywords_summary[i] = []\n",
    "    for ind in order_centroids[i, :6]: #replace 6 with n words per cluster\n",
    "        Cluster_keywords_summary[i].append(vocab_frame_dict[tf_selected_words[ind]])\n",
    "        print vocab_frame_dict[tf_selected_words[ind]] + \",\",\n",
    "\n",
    "    #Here ix means index, which is the clusterID of each item.\n",
    "    #Without tolist, the values result from dataframe is <type 'numpy.ndarray'>\n",
    "    cluster_movies = frame.ix[i]['title'].values.tolist()\n",
    "    print(\"Cluster \" + str(i) + \" titles (\" + str(len(cluster_movies)) + \" movies): \") \n",
    "    print(\", \".join(cluster_movies))"
   ]
  },
  {
   "cell_type": "markdown",
   "metadata": {},
   "source": [
    "## 4.2 Plot K-means Result"
   ]
  },
  {
   "cell_type": "code",
   "execution_count": 54,
   "metadata": {
    "collapsed": true
   },
   "outputs": [],
   "source": [
    "pca = decomposition.PCA(n_components=2)\n",
    "tfidf_matrix_np = tfidf_matrix.toarray()\n",
    "pca.fit(tfidf_matrix_np)\n",
    "X = pca.transform(tfidf_matrix_np)\n",
    "\n",
    "xs, ys = X[:, 0], X[:, 1]\n",
    "\n",
    "# set up colors per clusters using a dict\n",
    "cluster_colors = {0: '#1b9e77', 1: '#d95f02', 2: '#7570b3', 3: '#e7298a', 4: '#66a61e'}\n",
    "# set up cluster names using a dict\n",
    "cluster_names = {}\n",
    "for i in range(num_clusters):\n",
    "    cluster_names[i] = \", \".join(Cluster_keywords_summary[i])"
   ]
  },
  {
   "cell_type": "code",
   "execution_count": 55,
   "metadata": {
    "collapsed": false
   },
   "outputs": [
    {
     "data": {
      "image/png": "[encoded data removed]",
      "text/plain": [
       "<matplotlib.figure.Figure at 0xee845f8>"
      ]
     },
     "metadata": {},
     "output_type": "display_data"
    }
   ],
   "source": [
    "%matplotlib inline\n",
    "\n",
    "# create data frame with PCA cluster results\n",
    "df = pd.DataFrame(dict(x=xs, y=ys, label=clusters, title=titles))\n",
    "groups = df.groupby(clusters)\n",
    "\n",
    "# set up plot\n",
    "fig, ax = plt.subplots(figsize=(16,9))\n",
    "\n",
    "# set color for each cluster/group\n",
    "for name, group in groups:\n",
    "    ax.plot(group.x, group.y, marker='o', linestyle='', ms=12,\n",
    "           label=cluster_names[name], color=cluster_colors[name],\n",
    "           mec='none')\n",
    "\n",
    "ax.legend(numpoints=1, loc=4)  # show legend with only 1 point, position is right bottom.\n",
    "\n",
    "plt.show()"
   ]
  },
  {
   "cell_type": "code",
   "execution_count": null,
   "metadata": {
    "collapsed": true
   },
   "outputs": [],
   "source": [
    "plt.close()"
   ]
  },
  {
   "cell_type": "markdown",
   "metadata": {},
   "source": [
    "## Part 5: Topic Modeling - Latent Dirichlet Allocation"
   ]
  },
  {
   "cell_type": "code",
   "execution_count": null,
   "metadata": {
    "collapsed": true
   },
   "outputs": [],
   "source": [
    "terms_dict = {tf_selected_words[x]: x for x in range(len(tf_selected_words))}\n",
    "\n",
    "feature_matrix_synopses_tf = []\n",
    "for i in synopses:\n",
    "    current_doc_stats = [0] * len(tf_selected_words)\n",
    "    allwords_stemmed = tokenization_and_stemming(i)\n",
    "    for get_terms in allwords_stemmed:\n",
    "        if get_terms in tf_selected_words:\n",
    "            current_doc_stats[terms_dict[get_terms]] += 1\n",
    "    current_doc_stats = np.asarray(current_doc_stats)\n",
    "    feature_matrix_synopses_tf.append(current_doc_stats)\n",
    "\n",
    "feature_matrix_synopses_tf = np.asarray(feature_matrix_synopses_tf)"
   ]
  },
  {
   "cell_type": "code",
   "execution_count": null,
   "metadata": {
    "collapsed": false
   },
   "outputs": [],
   "source": [
    "model = lda.LDA(n_topics=5, n_iter=500, random_state=1)"
   ]
  },
  {
   "cell_type": "markdown",
   "metadata": {},
   "source": [
    "- `model.topic_word_` saves the importance of tf_selected_words in LDA model, i.e. words similarity matrix\n",
    "- The shape of `model.topic_word_` is (n_topics, num_of_selected_words)\n",
    "- `model.doc_topic_` saves the document topic results, i.e. document topic matrix.\n",
    "- The shape of `model.doc_topic_` is (num_of_documents, n_topics)"
   ]
  },
  {
   "cell_type": "code",
   "execution_count": null,
   "metadata": {
    "collapsed": true
   },
   "outputs": [],
   "source": [
    "model.fit(feature_matrix_synopses_tf)\n",
    "topic_word = model.topic_word_  # model.components_ also works\n",
    "n_top_words = 7\n",
    "\n",
    "topic_keywords_list = []\n",
    "for i, topic_dist in enumerate(topic_word):\n",
    "    # we select to (n_top_words-1)\n",
    "    lda_topic_words = np.array(tf_selected_words)[np.argsort(topic_dist)][:-n_top_words:-1]\n",
    "    for j in range(len(lda_topic_words)):\n",
    "        lda_topic_words[j] = vocab_frame_dict[lda_topic_words[j]]\n",
    "    topic_keywords_list.append(lda_topic_words.tolist())"
   ]
  },
  {
   "cell_type": "code",
   "execution_count": null,
   "metadata": {
    "collapsed": false
   },
   "outputs": [],
   "source": [
    "doc_topic = model.doc_topic_\n",
    "topic_doc_dict = {}\n",
    "\n",
    "print(\"<Document clustering result by LDA>\")\n",
    "for i in range(len(doc_topic)):\n",
    "    topicID = doc_topic[i].argmax()\n",
    "    if topicID not in topic_doc_dict:\n",
    "        topic_doc_dict[topicID] = [titles[i]]\n",
    "    else:\n",
    "        topic_doc_dict[topicID].append(titles[i])\n",
    "\n",
    "for i in topic_doc_dict:\n",
    "    print(\"Cluster \" + str(i) + \" words: \" + \", \".join(topic_keywords_list[i]))\n",
    "    print(\"Cluster \" + str(i) + \" titles (\" + str(len(topic_doc_dict[i])) + \" movies): \")\n",
    "    print(', '.join(topic_doc_dict[i]))\n"
   ]
  },
  {
   "cell_type": "markdown",
   "metadata": {},
   "source": [
    "### Plots"
   ]
  },
  {
   "cell_type": "code",
   "execution_count": null,
   "metadata": {
    "collapsed": false
   },
   "outputs": [],
   "source": [
    "from sklearn.datasets.samples_generator import make_blobs\n",
    "X, y = make_blobs(n_samples=300, centers=4, random_state=0, cluster_std=0.60)\n",
    "plt.scatter(X[:, 0], X[:, 1], s=50)"
   ]
  },
  {
   "cell_type": "code",
   "execution_count": null,
   "metadata": {
    "collapsed": false
   },
   "outputs": [],
   "source": [
    "from sklearn.cluster import KMeans\n",
    "est = KMeans(4)\n",
    "est.fit(X)\n",
    "y_kmeans = est.predict(X)\n",
    "plt.scatter(X[:, 0], X[:, 1], c=y_kmeans, s=50)"
   ]
  },
  {
   "cell_type": "code",
   "execution_count": null,
   "metadata": {
    "collapsed": true
   },
   "outputs": [],
   "source": []
  }
 ],
 "metadata": {
  "anaconda-cloud": {},
  "kernelspec": {
   "display_name": "Python [Anaconda2]",
   "language": "python",
   "name": "Python [Anaconda2]"
  },
  "language_info": {
   "codemirror_mode": {
    "name": "ipython",
    "version": 2
   },
   "file_extension": ".py",
   "mimetype": "text/x-python",
   "name": "python",
   "nbconvert_exporter": "python",
   "pygments_lexer": "ipython2",
   "version": "2.7.12"
  }
 },
 "nbformat": 4,
 "nbformat_minor": 0
}
